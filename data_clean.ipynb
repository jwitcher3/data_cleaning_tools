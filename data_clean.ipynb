{
 "cells": [
  {
   "cell_type": "markdown",
   "metadata": {},
   "source": [
    "## Code for cleaning incoming marketing data for analysis"
   ]
  },
  {
   "cell_type": "code",
   "execution_count": null,
   "metadata": {},
   "outputs": [],
   "source": [
    "import pandas as pd\n",
    "import re"
   ]
  },
  {
   "cell_type": "code",
   "execution_count": null,
   "metadata": {},
   "outputs": [],
   "source": [
    "schema_df = pd.read_csv('/Users/jwitch/Downloads/64b70e1b3aecc914857da23e.csv')\n",
    "schema_df"
   ]
  },
  {
   "cell_type": "code",
   "execution_count": null,
   "metadata": {},
   "outputs": [],
   "source": [
    "# Select a specific column and show distinct values\n",
    "column_to_show = \"season\"  \n",
    "distinct_values = schema_df[column_to_show].unique()\n",
    "\n",
    "# Display the distinct values\n",
    "print(f\"Distinct values in column '{column_to_show}':\")\n",
    "for value in distinct_values:\n",
    "    print(value)"
   ]
  },
  {
   "cell_type": "code",
   "execution_count": null,
   "metadata": {},
   "outputs": [],
   "source": [
    "# Specify the column name you want to modify\n",
    "column_names = ['copy_meta_data', 'content_tags_meta_data', 'social_post_content']\n",
    "\n",
    "# Add double quotes around each value, and remove excess whitespace in the specified column\n",
    "for column_name in column_names:\n",
    "    schema_df[column_name] = schema_df[column_name].apply(lambda x: f'\"{x}\"' if pd.notnull(x) else x)\n",
    "    schema_df[column_name] = schema_df[column_name].apply(lambda x: re.sub(r'\\s+', '', x.replace('\\n', '')) if pd.notnull(x) else x)"
   ]
  },
  {
   "cell_type": "code",
   "execution_count": null,
   "metadata": {},
   "outputs": [],
   "source": [
    "schema_df['copy_meta_data'][9:12]"
   ]
  },
  {
   "cell_type": "code",
   "execution_count": null,
   "metadata": {},
   "outputs": [],
   "source": [
    "schema_df.to_csv('organic_twitter_2.csv', index=False)"
   ]
  }
 ],
 "metadata": {
  "language_info": {
   "name": "python"
  },
  "orig_nbformat": 4
 },
 "nbformat": 4,
 "nbformat_minor": 2
}
