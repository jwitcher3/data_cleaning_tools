{
 "cells": [
  {
   "cell_type": "markdown",
   "id": "08ff7547",
   "metadata": {},
   "source": [
    "# 🧹 Data Cleaning & EDA Toolkit\n",
    "A modular notebook for exploring and cleaning tabular data (CSV, Excel, etc.)."
   ]
  },
  {
   "cell_type": "markdown",
   "id": "29bd21fc",
   "metadata": {},
   "source": [
    "## 1. Load Data"
   ]
  },
  {
   "cell_type": "code",
   "execution_count": null,
   "id": "9166ac19",
   "metadata": {},
   "outputs": [],
   "source": [
    "import pandas as pd\n",
    "import numpy as np\n",
    "import re\n",
    "\n",
    "# Load CSV (edit this path)\n",
    "df = pd.read_csv('your_data.csv')\n",
    "df.head()\n"
   ]
  },
  {
   "cell_type": "markdown",
   "id": "9775fec3",
   "metadata": {},
   "source": [
    "## 2. Initial Exploration"
   ]
  },
  {
   "cell_type": "code",
   "execution_count": null,
   "id": "09459565",
   "metadata": {},
   "outputs": [],
   "source": [
    "# Basic shape and types\n",
    "print(\"Shape:\", df.shape)\n",
    "print(\"\\nColumn Types:\")\n",
    "print(df.dtypes)\n",
    "\n",
    "# Preview rows\n",
    "df.sample(5)\n"
   ]
  },
  {
   "cell_type": "markdown",
   "id": "9b859767",
   "metadata": {},
   "source": [
    "## 3. Null & Duplicates"
   ]
  },
  {
   "cell_type": "code",
   "execution_count": null,
   "id": "9f99b1ed",
   "metadata": {},
   "outputs": [],
   "source": [
    "# Null summary\n",
    "nulls = df.isnull().sum()\n",
    "print(\"Null counts:\")\n",
    "print(nulls[nulls > 0])\n",
    "\n",
    "# % null\n",
    "print(\"\\nNull % by column:\")\n",
    "print((df.isnull().mean() * 100).round(1))\n",
    "\n",
    "# Duplicates\n",
    "print(f\"Duplicate rows: {df.duplicated().sum()}\")\n"
   ]
  },
  {
   "cell_type": "markdown",
   "id": "3a3b72cf",
   "metadata": {},
   "source": [
    "## 4. Unique Value Summary"
   ]
  },
  {
   "cell_type": "code",
   "execution_count": null,
   "id": "903dd537",
   "metadata": {},
   "outputs": [],
   "source": [
    "# Unique values per column\n",
    "for col in df.columns:\n",
    "    unique_vals = df[col].nunique()\n",
    "    print(f\"{col}: {unique_vals} unique values\")\n"
   ]
  },
  {
   "cell_type": "markdown",
   "id": "59a7cd1f",
   "metadata": {},
   "source": [
    "## 5. Cleaning Functions"
   ]
  },
  {
   "cell_type": "code",
   "execution_count": null,
   "id": "0c5a4019",
   "metadata": {},
   "outputs": [],
   "source": [
    "# Fill nulls (example)\n",
    "def fill_nulls(df, strategy='mean', cols=None, value=None):\n",
    "    if cols is None:\n",
    "        cols = df.select_dtypes(include=[np.number]).columns\n",
    "    for col in cols:\n",
    "        if strategy == 'mean':\n",
    "            df[col] = df[col].fillna(df[col].mean())\n",
    "        elif strategy == 'median':\n",
    "            df[col] = df[col].fillna(df[col].median())\n",
    "        elif strategy == 'value' and value is not None:\n",
    "            df[col] = df[col].fillna(value)\n",
    "    return df\n"
   ]
  },
  {
   "cell_type": "code",
   "execution_count": null,
   "id": "625564c2",
   "metadata": {},
   "outputs": [],
   "source": [
    "# Text cleaning\n",
    "def clean_text_cols(df, cols):\n",
    "    for col in cols:\n",
    "        df[col] = df[col].astype(str).str.strip().str.lower()\n",
    "        df[col] = df[col].apply(lambda x: re.sub(r'[\\n\\r]+', ' ', x))\n",
    "    return df\n"
   ]
  },
  {
   "cell_type": "markdown",
   "id": "6afe2a8c",
   "metadata": {},
   "source": [
    "## 6. Rename + Standardize Columns"
   ]
  },
  {
   "cell_type": "code",
   "execution_count": null,
   "id": "c81fc3f4",
   "metadata": {},
   "outputs": [],
   "source": [
    "# Quick way to rename columns\n",
    "df.columns = df.columns.str.strip().str.lower().str.replace(' ', '_')\n",
    "df.columns\n"
   ]
  },
  {
   "cell_type": "markdown",
   "id": "0946290d",
   "metadata": {},
   "source": [
    "## 7. Export Cleaned Data"
   ]
  },
  {
   "cell_type": "code",
   "execution_count": null,
   "id": "e62d2794",
   "metadata": {},
   "outputs": [],
   "source": [
    "df.to_csv(\"cleaned_data.csv\", index=False)\n",
    "print(\"Data exported as 'cleaned_data.csv'\")\n"
   ]
  },
  {
   "cell_type": "markdown",
   "id": "cfeeb882",
   "metadata": {},
   "source": [
    "## 🔄 Original Snippets (from your version)"
   ]
  },
  {
   "cell_type": "markdown",
   "id": "6d00a008",
   "metadata": {},
   "source": [
    "## Code for cleaning incoming marketing data for analysis"
   ]
  },
  {
   "cell_type": "code",
   "execution_count": null,
   "id": "f714d885",
   "metadata": {},
   "outputs": [],
   "source": [
    "import pandas as pd\n",
    "import re"
   ]
  },
  {
   "cell_type": "code",
   "execution_count": null,
   "id": "a116a017",
   "metadata": {},
   "outputs": [],
   "source": [
    "schema_df = pd.read_csv('/Users/jwitch/Downloads/64b70e1b3aecc914857da23e.csv')\n",
    "schema_df"
   ]
  },
  {
   "cell_type": "code",
   "execution_count": null,
   "id": "b01bafd5",
   "metadata": {},
   "outputs": [],
   "source": [
    "# Select a specific column and show distinct values\n",
    "column_to_show = \"season\"  \n",
    "distinct_values = schema_df[column_to_show].unique()\n",
    "\n",
    "# Display the distinct values\n",
    "print(f\"Distinct values in column '{column_to_show}':\")\n",
    "for value in distinct_values:\n",
    "    print(value)"
   ]
  },
  {
   "cell_type": "code",
   "execution_count": null,
   "id": "d2cf695a",
   "metadata": {},
   "outputs": [],
   "source": [
    "# Specify the column name you want to modify\n",
    "column_names = ['copy_meta_data', 'content_tags_meta_data', 'social_post_content']\n",
    "\n",
    "# Add double quotes around each value, and remove excess whitespace in the specified column\n",
    "for column_name in column_names:\n",
    "    schema_df[column_name] = schema_df[column_name].apply(lambda x: f'\"{x}\"' if pd.notnull(x) else x)\n",
    "    schema_df[column_name] = schema_df[column_name].apply(lambda x: re.sub(r'\\s+', '', x.replace('\\n', '')) if pd.notnull(x) else x)"
   ]
  },
  {
   "cell_type": "code",
   "execution_count": null,
   "id": "3c56b5b5",
   "metadata": {},
   "outputs": [],
   "source": [
    "schema_df['copy_meta_data'][9:12]"
   ]
  },
  {
   "cell_type": "code",
   "execution_count": null,
   "id": "2729fa4d",
   "metadata": {},
   "outputs": [],
   "source": [
    "schema_df.to_csv('organic_twitter_2.csv', index=False)"
   ]
  }
 ],
 "metadata": {},
 "nbformat": 4,
 "nbformat_minor": 5
}
